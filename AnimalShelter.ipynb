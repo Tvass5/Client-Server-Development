{
 "cells": [
  {
   "cell_type": "code",
   "execution_count": 1,
   "metadata": {},
   "outputs": [
    {
     "name": "stdout",
     "output_type": "stream",
     "text": [
      "{'name': 'Tom', 'type': 'Canine'}\n",
      "{'name': 'Tom', 'type': 'Canine'}\n",
      "{'name': 'Tom', 'type': 'Canine'}\n",
      "{'name': 'Tom', 'type': 'Canine'}\n",
      "{'name': 'Tom', 'type': 'Canine'}\n",
      "{'name': 'Tom', 'type': 'Canine'}\n",
      "{'name': 'Tom', 'type': 'Canine'}\n",
      "{'name': 'Tom', 'type': 'Canine'}\n",
      "{'name': 'Tom', 'type': 'Canine'}\n",
      "{'name': 'Tom', 'type': 'Canine'}\n",
      "{'name': 'Tom', 'type': 'Canine'}\n",
      "{'name': 'Tom', 'type': 'Canine'}\n",
      "{'name': 'Tom', 'type': 'Canine'}\n",
      "{'name': 'Tom', 'type': 'Canine'}\n",
      "{'name': 'Tom', 'type': 'Canine'}\n",
      "{'name': 'Tom', 'type': 'Canine'}\n",
      "{'name': 'Tom', 'type': 'Canine'}\n",
      "{'name': 'Tom', 'type': 'Canine'}\n",
      "{'name': 'Tom', 'type': 'Canine'}\n",
      "{'name': 'Tom', 'type': 'Canine'}\n",
      "{'name': 'Tom', 'type': 'Canine'}\n",
      "{'name': 'Tom', 'type': 'Canine'}\n",
      "{'name': 'Tom', 'type': 'Canine'}\n",
      "{'name': 'Tom', 'type': 'Canine'}\n",
      "{'name': 'Tom', 'type': 'Canine'}\n",
      "{'name': 'Tom', 'type': 'Canine'}\n",
      "{'name': 'Tom', 'type': 'Canine'}\n",
      "{'name': 'Tom', 'type': 'Canine'}\n",
      "{'name': 'Tom', 'type': 'Canine'}\n",
      "{'name': 'Tom', 'type': 'Canine'}\n",
      "{'name': 'Tom', 'type': 'Canine'}\n",
      "{'name': 'Tom', 'type': 'Canine'}\n",
      "{'name': 'Tom', 'type': 'Canine'}\n",
      "{'name': 'Tom', 'type': 'Canine'}\n",
      "{'name': 'Tom', 'type': 'Canine'}\n",
      "{'name': 'Tom', 'type': 'Canine'}\n",
      "{'name': 'Tom', 'type': 'Canine'}\n",
      "{'name': 'Tom', 'type': 'Canine'}\n",
      "{'name': 'Tom', 'type': 'Canine'}\n",
      "{'name': 'Tom', 'type': 'Canine'}\n",
      "{'name': 'Tom', 'type': 'Canine'}\n",
      "{'name': 'Tom', 'type': 'Canine'}\n",
      "{'name': 'Tom', 'type': 'Canine'}\n",
      "{'name': 'Tom', 'type': 'Canine'}\n",
      "{'name': 'Tom', 'type': 'Canine'}\n",
      "{'name': 'Tom', 'type': 'Canine'}\n",
      "{'name': 'Tom', 'type': 'Canine'}\n",
      "{'name': 'Tom', 'type': 'Canine'}\n",
      "{'name': 'Tom', 'type': 'Canine'}\n",
      "{'name': 'Tom', 'type': 'Canine'}\n",
      "{'name': 'Mazi', 'type': 'Canine'}\n",
      "<pymongo.results.UpdateResult object at 0x7fd8e94baf88>\n",
      "<pymongo.results.DeleteResult object at 0x7fd8e94baec8>\n"
     ]
    }
   ],
   "source": [
    "from AnimalShelter import AnimalShelter; import inspect;\n",
    "inspect.getmembers(AnimalShelter, predicate=inspect.ismethod)\n",
    "\n",
    "# Instantiate an object from AnimalShelter\n",
    "animal_data = AnimalShelter()\n",
    "\n",
    "# Test create method\n",
    "data = [{\"name\": \"Mazi\", \"type\": \"Canine\"}]\n",
    "animal_data.create(data)\n",
    "\n",
    "# Test read method\n",
    "data = animal_data.read({\"type\": \"Canine\"})\n",
    "for d in data:\n",
    "   print(d)\n",
    "\n",
    "#Test update method\n",
    "data = ({\"name\": \"Mazi\"})\n",
    "uData = ({\"$set\": {\"name\": \"Tom\"}})\n",
    "result = animal_data.update(data, uData)\n",
    "print (result)\n",
    "\n",
    "#Test delete method\n",
    "data = ({\"name\": \"Milan\"})\n",
    "result = animal_data.delete(data)\n",
    "print (result)\n",
    "\n",
    "\n"
   ]
  },
  {
   "cell_type": "code",
   "execution_count": null,
   "metadata": {},
   "outputs": [],
   "source": []
  },
  {
   "cell_type": "code",
   "execution_count": null,
   "metadata": {},
   "outputs": [],
   "source": []
  },
  {
   "cell_type": "code",
   "execution_count": null,
   "metadata": {},
   "outputs": [],
   "source": []
  },
  {
   "cell_type": "code",
   "execution_count": null,
   "metadata": {},
   "outputs": [],
   "source": []
  }
 ],
 "metadata": {
  "kernelspec": {
   "display_name": "Python 3",
   "language": "python",
   "name": "python3"
  },
  "language_info": {
   "codemirror_mode": {
    "name": "ipython",
    "version": 3
   },
   "file_extension": ".py",
   "mimetype": "text/x-python",
   "name": "python",
   "nbconvert_exporter": "python",
   "pygments_lexer": "ipython3",
   "version": "3.6.9"
  }
 },
 "nbformat": 4,
 "nbformat_minor": 2
}
